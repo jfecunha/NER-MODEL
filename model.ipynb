{
 "cells": [
  {
   "attachments": {},
   "cell_type": "markdown",
   "metadata": {},
   "source": [
    "# Spacy ner model"
   ]
  },
  {
   "cell_type": "code",
   "execution_count": 13,
   "metadata": {},
   "outputs": [],
   "source": [
    "from typing import List, Dict\n",
    "\n",
    "import spacy"
   ]
  },
  {
   "cell_type": "code",
   "execution_count": 7,
   "metadata": {},
   "outputs": [
    {
     "name": "stdout",
     "output_type": "stream",
     "text": [
      "[{'text': 'Apple', 'type': 'ORG', 'start_pos': 0, 'end_pos': 5}, {'text': 'U.K.', 'type': 'GPE', 'start_pos': 27, 'end_pos': 31}, {'text': '$1 billion', 'type': 'MONEY', 'start_pos': 44, 'end_pos': 54}]\n"
     ]
    }
   ],
   "source": [
    "nlp = spacy.load(\"en_core_web_md\")\n",
    "doc = nlp(\"Apple is looking at buying U.K. startup for $1 billion\")\n",
    "\n",
    "output = []\n",
    "for ent in doc.ents:\n",
    "    output.append(\n",
    "        {\n",
    "            'text': ent.text,\n",
    "            'type': ent.label_,\n",
    "            'start_pos': ent.start_char,\n",
    "            'end_pos': ent.end_char\n",
    "            \n",
    "        }\n",
    "    )\n",
    "print(output)"
   ]
  },
  {
   "cell_type": "code",
   "execution_count": 14,
   "metadata": {},
   "outputs": [],
   "source": [
    "def run_ner_model(text: str, model_name: str) -> List[Dict]:\n",
    "    \"\"\"Extract NER entities from text.\n",
    "\n",
    "    Args:\n",
    "        text (str): Text input.\n",
    "        model_name (str): Spacy NER model for specific language\n",
    "\n",
    "    Returns:\n",
    "        List[Dict]: NER model results\n",
    "    \"\"\"\n",
    "    \n",
    "    nlp = spacy.load(model_name)\n",
    "    doc = nlp(text)\n",
    "\n",
    "    output = []\n",
    "    for ent in doc.ents:\n",
    "        output.append(\n",
    "            {\n",
    "                'text': ent.text,\n",
    "                'type': ent.label_,\n",
    "                'start_pos': ent.start_char,\n",
    "                'end_pos': ent.end_char\n",
    "                \n",
    "            }\n",
    "        )\n",
    "    return output\n"
   ]
  },
  {
   "attachments": {},
   "cell_type": "markdown",
   "metadata": {},
   "source": [
    "## English"
   ]
  },
  {
   "cell_type": "code",
   "execution_count": 15,
   "metadata": {},
   "outputs": [
    {
     "data": {
      "text/plain": [
       "[{'text': 'Apple', 'type': 'ORG', 'start_pos': 0, 'end_pos': 5},\n",
       " {'text': 'U.K.', 'type': 'GPE', 'start_pos': 27, 'end_pos': 31},\n",
       " {'text': '$1 billion', 'type': 'MONEY', 'start_pos': 44, 'end_pos': 54}]"
      ]
     },
     "execution_count": 15,
     "metadata": {},
     "output_type": "execute_result"
    }
   ],
   "source": [
    "text = \"Apple is looking at buying U.K. startup for $1 billion\"\n",
    "model_name = \"en_core_web_md\"\n",
    "run_ner_model(text, model_name)"
   ]
  },
  {
   "attachments": {},
   "cell_type": "markdown",
   "metadata": {},
   "source": [
    "## French"
   ]
  },
  {
   "cell_type": "code",
   "execution_count": null,
   "metadata": {},
   "outputs": [],
   "source": [
    "text = \"Apple is looking at buying U.K. startup for $1 billion\"\n",
    "model_name = \"en_core_web_md\"\n",
    "run_ner_model(text, model_name)"
   ]
  }
 ],
 "metadata": {
  "kernelspec": {
   "display_name": "ner-model-b_nSkzB9-py3.11",
   "language": "python",
   "name": "python3"
  },
  "language_info": {
   "codemirror_mode": {
    "name": "ipython",
    "version": 3
   },
   "file_extension": ".py",
   "mimetype": "text/x-python",
   "name": "python",
   "nbconvert_exporter": "python",
   "pygments_lexer": "ipython3",
   "version": "3.11.1"
  },
  "orig_nbformat": 4,
  "vscode": {
   "interpreter": {
    "hash": "fe85f74c665ed05fc6a445a328079c56d3bcece7560cee0487600087786b8979"
   }
  }
 },
 "nbformat": 4,
 "nbformat_minor": 2
}
